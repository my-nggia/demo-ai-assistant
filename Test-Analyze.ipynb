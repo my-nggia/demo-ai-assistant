{
 "cells": [
  {
   "cell_type": "code",
   "execution_count": 2,
   "id": "73a8bf5c",
   "metadata": {},
   "outputs": [],
   "source": [
    "import pandas as pd\n",
    "import numpy as np"
   ]
  },
  {
   "cell_type": "code",
   "execution_count": 4,
   "id": "271c604c",
   "metadata": {},
   "outputs": [],
   "source": [
    "# read csv exported from streamlit\n",
    "df = pd.read_csv('uk_sales_2012_sample.csv')"
   ]
  },
  {
   "cell_type": "code",
   "execution_count": 6,
   "id": "56be3cb7",
   "metadata": {},
   "outputs": [
    {
     "data": {
      "text/plain": [
       "Invoice        float64\n",
       "StockCode      float64\n",
       "Description     object\n",
       "Quantity       float64\n",
       "InvoiceDate     object\n",
       "Price          float64\n",
       "Customer ID    float64\n",
       "Country         object\n",
       "Gender          object\n",
       "Location        object\n",
       "Age            float64\n",
       "dtype: object"
      ]
     },
     "execution_count": 6,
     "metadata": {},
     "output_type": "execute_result"
    }
   ],
   "source": [
    "df.dtypes"
   ]
  },
  {
   "cell_type": "markdown",
   "id": "83247c56",
   "metadata": {},
   "source": [
    "# Preprocessing"
   ]
  },
  {
   "cell_type": "code",
   "execution_count": 7,
   "id": "4c32b106",
   "metadata": {},
   "outputs": [],
   "source": [
    "# change InvoiceDate to datetime\n",
    "df['InvoiceDate'] = pd.to_datetime(df['InvoiceDate'])"
   ]
  },
  {
   "cell_type": "code",
   "execution_count": 8,
   "id": "a719471b",
   "metadata": {},
   "outputs": [
    {
     "data": {
      "text/plain": [
       "Invoice               float64\n",
       "StockCode             float64\n",
       "Description            object\n",
       "Quantity              float64\n",
       "InvoiceDate    datetime64[ns]\n",
       "Price                 float64\n",
       "Customer ID           float64\n",
       "Country                object\n",
       "Gender                 object\n",
       "Location               object\n",
       "Age                   float64\n",
       "dtype: object"
      ]
     },
     "execution_count": 8,
     "metadata": {},
     "output_type": "execute_result"
    }
   ],
   "source": [
    "df.dtypes"
   ]
  },
  {
   "cell_type": "markdown",
   "id": "e8a7beaa",
   "metadata": {},
   "source": [
    "# RFM"
   ]
  },
  {
   "cell_type": "code",
   "execution_count": 9,
   "id": "059f303e",
   "metadata": {},
   "outputs": [],
   "source": [
    "max_date = df['InvoiceDate'].max()\n",
    "recency_df = df.groupby('Customer ID')['InvoiceDate'].max().reset_index()\n",
    "recency_df['Recency'] = (max_date - recency_df['InvoiceDate']).dt.days\n",
    "recency_df = recency_df[['Customer ID', 'Recency']]\n",
    "\n",
    "frequency_df = df.groupby('Customer ID')['Invoice'].nunique().reset_index()\n",
    "frequency_df.rename(columns={'Invoice': 'Frequency'}, inplace=True)\n",
    "\n",
    "df['MonetaryValue'] = (df['Price'] * df['Quantity']).round(2)\n",
    "monetary_df = df.groupby('Customer ID')['MonetaryValue'].sum().round(2).reset_index()\n",
    "monetary_df.rename(columns={'MonetaryValue': 'Monetary'}, inplace=True)\n",
    "\n",
    "customer_info = df.groupby('Customer ID').first()[['Gender', 'Location', 'Age']].reset_index()\n",
    "\n",
    "rfm_df = recency_df.merge(frequency_df, on='Customer ID') \\\n",
    "                   .merge(monetary_df, on='Customer ID') \\\n",
    "                   .merge(customer_info, on='Customer ID')\n"
   ]
  },
  {
   "cell_type": "code",
   "execution_count": 11,
   "id": "74889291",
   "metadata": {},
   "outputs": [
    {
     "data": {
      "text/html": [
       "<div>\n",
       "<style scoped>\n",
       "    .dataframe tbody tr th:only-of-type {\n",
       "        vertical-align: middle;\n",
       "    }\n",
       "\n",
       "    .dataframe tbody tr th {\n",
       "        vertical-align: top;\n",
       "    }\n",
       "\n",
       "    .dataframe thead th {\n",
       "        text-align: right;\n",
       "    }\n",
       "</style>\n",
       "<table border=\"1\" class=\"dataframe\">\n",
       "  <thead>\n",
       "    <tr style=\"text-align: right;\">\n",
       "      <th></th>\n",
       "      <th>Customer ID</th>\n",
       "      <th>Recency</th>\n",
       "      <th>Frequency</th>\n",
       "      <th>Monetary</th>\n",
       "      <th>Gender</th>\n",
       "      <th>Location</th>\n",
       "      <th>Age</th>\n",
       "    </tr>\n",
       "  </thead>\n",
       "  <tbody>\n",
       "    <tr>\n",
       "      <th>0</th>\n",
       "      <td>10001.0</td>\n",
       "      <td>0</td>\n",
       "      <td>3</td>\n",
       "      <td>762.90</td>\n",
       "      <td>Male</td>\n",
       "      <td>York</td>\n",
       "      <td>69.0</td>\n",
       "    </tr>\n",
       "    <tr>\n",
       "      <th>1</th>\n",
       "      <td>10002.0</td>\n",
       "      <td>105</td>\n",
       "      <td>1</td>\n",
       "      <td>82.64</td>\n",
       "      <td>Female</td>\n",
       "      <td>Durham</td>\n",
       "      <td>32.0</td>\n",
       "    </tr>\n",
       "  </tbody>\n",
       "</table>\n",
       "</div>"
      ],
      "text/plain": [
       "   Customer ID  Recency  Frequency  Monetary  Gender Location   Age\n",
       "0      10001.0        0          3    762.90    Male     York  69.0\n",
       "1      10002.0      105          1     82.64  Female   Durham  32.0"
      ]
     },
     "execution_count": 11,
     "metadata": {},
     "output_type": "execute_result"
    }
   ],
   "source": [
    "rfm_df.head()"
   ]
  },
  {
   "cell_type": "code",
   "execution_count": null,
   "id": "3ec5e9e2",
   "metadata": {},
   "outputs": [],
   "source": []
  },
  {
   "cell_type": "code",
   "execution_count": null,
   "id": "99d5aea1",
   "metadata": {},
   "outputs": [],
   "source": []
  },
  {
   "cell_type": "markdown",
   "id": "42a7d042",
   "metadata": {},
   "source": [
    "# Top locations"
   ]
  },
  {
   "cell_type": "code",
   "execution_count": 21,
   "id": "52620cf3",
   "metadata": {},
   "outputs": [],
   "source": [
    "# top_locations = \n",
    "top_locations = df.groupby('Location')['Invoice'].nunique().reset_index()\n",
    "\n",
    "# Sắp xếp theo số lượng hóa đơn xuất hiện nhiều nhất\n",
    "top_locations = top_locations.sort_values(by='Invoice', ascending=False)\n"
   ]
  },
  {
   "cell_type": "code",
   "execution_count": 22,
   "id": "e35bed7c",
   "metadata": {},
   "outputs": [
    {
     "data": {
      "text/html": [
       "<div>\n",
       "<style scoped>\n",
       "    .dataframe tbody tr th:only-of-type {\n",
       "        vertical-align: middle;\n",
       "    }\n",
       "\n",
       "    .dataframe tbody tr th {\n",
       "        vertical-align: top;\n",
       "    }\n",
       "\n",
       "    .dataframe thead th {\n",
       "        text-align: right;\n",
       "    }\n",
       "</style>\n",
       "<table border=\"1\" class=\"dataframe\">\n",
       "  <thead>\n",
       "    <tr style=\"text-align: right;\">\n",
       "      <th></th>\n",
       "      <th>Location</th>\n",
       "      <th>Invoice</th>\n",
       "    </tr>\n",
       "  </thead>\n",
       "  <tbody>\n",
       "    <tr>\n",
       "      <th>1</th>\n",
       "      <td>York</td>\n",
       "      <td>3</td>\n",
       "    </tr>\n",
       "    <tr>\n",
       "      <th>0</th>\n",
       "      <td>Durham</td>\n",
       "      <td>1</td>\n",
       "    </tr>\n",
       "  </tbody>\n",
       "</table>\n",
       "</div>"
      ],
      "text/plain": [
       "  Location  Invoice\n",
       "1     York        3\n",
       "0   Durham        1"
      ]
     },
     "execution_count": 22,
     "metadata": {},
     "output_type": "execute_result"
    }
   ],
   "source": [
    "top_locations"
   ]
  },
  {
   "cell_type": "markdown",
   "id": "7433b9a0",
   "metadata": {},
   "source": [
    "# Top customers"
   ]
  },
  {
   "cell_type": "code",
   "execution_count": 23,
   "id": "3dbd90e0",
   "metadata": {},
   "outputs": [],
   "source": [
    "top_customers = df.groupby('Customer ID')['Invoice'].nunique().reset_index()\n",
    "top_customers = top_customers.sort_values(by='Invoice', ascending=False)"
   ]
  },
  {
   "cell_type": "code",
   "execution_count": 24,
   "id": "1461abc2",
   "metadata": {},
   "outputs": [
    {
     "data": {
      "text/html": [
       "<div>\n",
       "<style scoped>\n",
       "    .dataframe tbody tr th:only-of-type {\n",
       "        vertical-align: middle;\n",
       "    }\n",
       "\n",
       "    .dataframe tbody tr th {\n",
       "        vertical-align: top;\n",
       "    }\n",
       "\n",
       "    .dataframe thead th {\n",
       "        text-align: right;\n",
       "    }\n",
       "</style>\n",
       "<table border=\"1\" class=\"dataframe\">\n",
       "  <thead>\n",
       "    <tr style=\"text-align: right;\">\n",
       "      <th></th>\n",
       "      <th>Customer ID</th>\n",
       "      <th>Invoice</th>\n",
       "    </tr>\n",
       "  </thead>\n",
       "  <tbody>\n",
       "    <tr>\n",
       "      <th>0</th>\n",
       "      <td>10001.0</td>\n",
       "      <td>3</td>\n",
       "    </tr>\n",
       "    <tr>\n",
       "      <th>1</th>\n",
       "      <td>10002.0</td>\n",
       "      <td>1</td>\n",
       "    </tr>\n",
       "  </tbody>\n",
       "</table>\n",
       "</div>"
      ],
      "text/plain": [
       "   Customer ID  Invoice\n",
       "0      10001.0        3\n",
       "1      10002.0        1"
      ]
     },
     "execution_count": 24,
     "metadata": {},
     "output_type": "execute_result"
    }
   ],
   "source": [
    "top_customers"
   ]
  },
  {
   "cell_type": "markdown",
   "id": "7feb7494",
   "metadata": {},
   "source": []
  },
  {
   "cell_type": "code",
   "execution_count": null,
   "id": "427e8853",
   "metadata": {},
   "outputs": [],
   "source": []
  },
  {
   "cell_type": "markdown",
   "id": "236290dc",
   "metadata": {},
   "source": [
    "# Revenue"
   ]
  },
  {
   "cell_type": "code",
   "execution_count": null,
   "id": "edde9836",
   "metadata": {},
   "outputs": [],
   "source": []
  },
  {
   "cell_type": "code",
   "execution_count": 44,
   "id": "7446bc4f",
   "metadata": {},
   "outputs": [
    {
     "name": "stdout",
     "output_type": "stream",
     "text": [
      "Predicted Category: RFM Clustering\n"
     ]
    }
   ],
   "source": [
    "from questions_classification import QuestionClassifierModel\n",
    "\n",
    "classifier = QuestionClassifierModel.load_model(\"question_classifier.pkl\")\n",
    "\n",
    "question = \"RFM clustering\"\n",
    "predicted_category = classifier.predict(question)\n",
    "\n",
    "print(f\"Predicted Category: {predicted_category}\")\n"
   ]
  },
  {
   "cell_type": "code",
   "execution_count": null,
   "id": "c60247e4",
   "metadata": {},
   "outputs": [],
   "source": []
  },
  {
   "cell_type": "code",
   "execution_count": 45,
   "id": "cf820ca1",
   "metadata": {},
   "outputs": [],
   "source": [
    "df['InvoiceDate'] = pd.to_datetime(df['InvoiceDate'])\n",
    "\n",
    "max_date = df['InvoiceDate'].max()\n",
    "recency_df = df.groupby('Customer ID')['InvoiceDate'].max().reset_index()\n",
    "recency_df['Recency'] = (max_date - recency_df['InvoiceDate']).dt.days\n",
    "recency_df = recency_df[['Customer ID', 'Recency']]\n",
    "\n",
    "frequency_df = df.groupby('Customer ID')['Invoice'].nunique().reset_index()\n",
    "frequency_df.rename(columns={'Invoice': 'Frequency'}, inplace=True)\n",
    "\n",
    "df['MonetaryValue'] = (df['Price'] * df['Quantity']).round(2)\n",
    "monetary_df = df.groupby('Customer ID')['MonetaryValue'].sum().round(2).reset_index()\n",
    "monetary_df.rename(columns={'MonetaryValue': 'Monetary'}, inplace=True)\n",
    "\n",
    "customer_info = df.groupby('Customer ID').first()[['Gender', 'Location', 'Age']].reset_index()\n",
    "\n",
    "rfm_df = recency_df.merge(frequency_df, on='Customer ID') \\\n",
    "                   .merge(monetary_df, on='Customer ID') \\\n",
    "                   .merge(customer_info, on='Customer ID')"
   ]
  },
  {
   "cell_type": "code",
   "execution_count": 46,
   "id": "f86c5f75",
   "metadata": {},
   "outputs": [
    {
     "data": {
      "text/html": [
       "<div>\n",
       "<style scoped>\n",
       "    .dataframe tbody tr th:only-of-type {\n",
       "        vertical-align: middle;\n",
       "    }\n",
       "\n",
       "    .dataframe tbody tr th {\n",
       "        vertical-align: top;\n",
       "    }\n",
       "\n",
       "    .dataframe thead th {\n",
       "        text-align: right;\n",
       "    }\n",
       "</style>\n",
       "<table border=\"1\" class=\"dataframe\">\n",
       "  <thead>\n",
       "    <tr style=\"text-align: right;\">\n",
       "      <th></th>\n",
       "      <th>Customer ID</th>\n",
       "      <th>Recency</th>\n",
       "      <th>Frequency</th>\n",
       "      <th>Monetary</th>\n",
       "      <th>Gender</th>\n",
       "      <th>Location</th>\n",
       "      <th>Age</th>\n",
       "    </tr>\n",
       "  </thead>\n",
       "  <tbody>\n",
       "    <tr>\n",
       "      <th>0</th>\n",
       "      <td>10001.0</td>\n",
       "      <td>0</td>\n",
       "      <td>3</td>\n",
       "      <td>762.90</td>\n",
       "      <td>Male</td>\n",
       "      <td>York</td>\n",
       "      <td>69.0</td>\n",
       "    </tr>\n",
       "    <tr>\n",
       "      <th>1</th>\n",
       "      <td>10002.0</td>\n",
       "      <td>105</td>\n",
       "      <td>1</td>\n",
       "      <td>82.64</td>\n",
       "      <td>Female</td>\n",
       "      <td>Durham</td>\n",
       "      <td>32.0</td>\n",
       "    </tr>\n",
       "  </tbody>\n",
       "</table>\n",
       "</div>"
      ],
      "text/plain": [
       "   Customer ID  Recency  Frequency  Monetary  Gender Location   Age\n",
       "0      10001.0        0          3    762.90    Male     York  69.0\n",
       "1      10002.0      105          1     82.64  Female   Durham  32.0"
      ]
     },
     "execution_count": 46,
     "metadata": {},
     "output_type": "execute_result"
    }
   ],
   "source": [
    "rfm_df"
   ]
  },
  {
   "cell_type": "code",
   "execution_count": null,
   "id": "ab5c958b",
   "metadata": {},
   "outputs": [],
   "source": []
  }
 ],
 "metadata": {
  "kernelspec": {
   "display_name": "Python 3 (ipykernel)",
   "language": "python",
   "name": "python3"
  },
  "language_info": {
   "codemirror_mode": {
    "name": "ipython",
    "version": 3
   },
   "file_extension": ".py",
   "mimetype": "text/x-python",
   "name": "python",
   "nbconvert_exporter": "python",
   "pygments_lexer": "ipython3",
   "version": "3.11.5"
  }
 },
 "nbformat": 4,
 "nbformat_minor": 5
}
